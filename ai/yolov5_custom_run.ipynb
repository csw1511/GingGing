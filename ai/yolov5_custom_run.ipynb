{
  "cells": [
    {
      "cell_type": "code",
      "execution_count": null,
      "metadata": {
        "id": "Ep97o0RYepW6"
      },
      "outputs": [],
      "source": [
        "!pip install roboflow\n",
        "\n",
        "from roboflow import Roboflow\n",
        "rf = Roboflow(api_key=\"MdG0CEisqJkl0tDaWQuR\")\n",
        "project = rf.workspace(\"garbage-detection-oa9nh\").project(\"yolov5-garbage-detection\")\n",
        "version = project.version(1)\n",
        "dataset = version.download(\"yolov5\")"
      ]
    },
    {
      "cell_type": "code",
      "execution_count": null,
      "metadata": {
        "id": "ziZOTET3iT6t"
      },
      "outputs": [],
      "source": [
        "%cd /content\n",
        "!git clone https://github.com/ultralytics/yolov5.git"
      ]
    },
    {
      "cell_type": "code",
      "execution_count": null,
      "metadata": {
        "id": "RR1d6iyaihbJ"
      },
      "outputs": [],
      "source": [
        "%cd /content/yolov5/\n",
        "!pip install -r requirements.txt"
      ]
    },
    {
      "cell_type": "code",
      "execution_count": null,
      "metadata": {
        "id": "S73Zt7PSh8ea"
      },
      "outputs": [],
      "source": [
        "%cd /\n",
        "from glob import glob\n",
        "\n",
        "test_img_list = glob('/content/yolov5_test_image_grabcut/*.jpg')\n",
        "\n",
        "print(len(test_img_list))"
      ]
    },
    {
      "cell_type": "code",
      "execution_count": null,
      "metadata": {
        "id": "RlK_ZWlAdMVX"
      },
      "outputs": [],
      "source": [
        "from IPython.display import Image\n",
        "import os\n",
        "\n",
        "%cd /content/yolov5/\n",
        "\n",
        "# test_img_path = test_img_list[5]\n",
        "# test_img_path = '/content/yolov5_test_image/image1.jpg'\n",
        "\n",
        "# 결과 디렉토리 설정\n",
        "result_dir = '/content/yolov5/runs/detect/exp/'\n",
        "\n",
        "# 기존 결과 삭제\n",
        "if os.path.exists(result_dir):\n",
        "    import shutil\n",
        "    shutil.rmtree(result_dir)\n",
        "\n",
        "for i in range(len(test_img_list)):\n",
        "    !python detect.py --weights /content/best.pt --img 320 --conf 0.25 --source {test_img_list[i]} --save-txt --save-conf --exist-ok\n",
        "    Image(os.path.join('/content/yolov5/runs/detect/exp', os.path.basename(test_img_list[i])))"
      ]
    },
    {
      "cell_type": "code",
      "execution_count": null,
      "metadata": {
        "id": "O-0spjAtuu0X"
      },
      "outputs": [],
      "source": [
        "import os\n",
        "import cv2\n",
        "\n",
        "# 이미지 경로와 결과 파일 경로 설정\n",
        "image_path = '/content/yolov5_test_image/test_trash9.jpg'\n",
        "txt_path = '/content/yolov5/runs/detect/exp/labels/test_trash9_result.txt'  # 이 경로는 실제 결과 파일에 맞게 조정 필요\n",
        "\n",
        "# 이미지 로드\n",
        "image = cv2.imread(image_path)\n",
        "height, width, _ = image.shape\n",
        "\n",
        "# 결과 파일 읽기\n",
        "with open(txt_path, 'r') as file:\n",
        "    lines = file.readlines()\n",
        "\n",
        "# 객체 데이터 파싱\n",
        "objects = []\n",
        "for line in lines:\n",
        "    parts = line.strip().split()\n",
        "    x_center, y_center, bbox_width, bbox_height = map(float, parts[1:5])\n",
        "    x_center *= width\n",
        "    y_center *= height\n",
        "    bbox_width *= width\n",
        "    bbox_height *= height\n",
        "    x1 = int(x_center - bbox_width / 2)\n",
        "    y1 = int(y_center - bbox_height / 2)\n",
        "    x2 = int(x_center + bbox_width / 2)\n",
        "    y2 = int(y_center + bbox_height / 2)\n",
        "    objects.append((x1, y1, x2, y2))\n",
        "\n",
        "# 이미지 중앙과 가장 가까운 객체 찾기\n",
        "image_center = (width / 2, height / 2)\n",
        "closest_object = min(objects, key=lambda obj: (image_center[0] - (obj[0]+obj[2])/2) ** 2 + (image_center[1] - (obj[1]+obj[3])/2) ** 2)\n",
        "\n",
        "# 가장 가까운 객체를 사용하여 이미지 크롭\n",
        "x1, y1, x2, y2 = closest_object\n",
        "cropped_image = image[y1:y2, x1:x2]\n",
        "\n",
        "# 크롭된 이미지 저장 또는 표시\n",
        "cv2.imwrite('/content/cropped_image.jpg', cropped_image)\n",
        "# 또는\n",
        "from IPython.display import display, Image\n",
        "display(Image(data=cv2.imencode('.jpg', cropped_image)[1].tobytes()))\n",
        "\n"
      ]
    },
    {
      "cell_type": "code",
      "execution_count": null,
      "metadata": {
        "id": "nOnaugUoGgCC"
      },
      "outputs": [],
      "source": [
        "import sys, os, glob\n",
        "from keras.models import Sequential\n",
        "from keras.layers import Convolution2D, MaxPooling2D\n",
        "from keras.layers import Activation, Dropout, Flatten, Dense\n",
        "# from keras.utils import np_utils\n",
        "from keras import utils\n",
        "from keras.models import load_model  # TensorFlow is required for Keras to work\n",
        "from PIL import Image, ImageOps  # Install pillow instead of PIL\n",
        "import numpy as np\n",
        "\n",
        "from tensorflow.keras.applications.resnet50 import preprocess_input\n",
        "from tensorflow.keras.preprocessing import image\n",
        "import numpy as np\n",
        "from PIL import Image\n",
        "import matplotlib.pyplot as plt"
      ]
    },
    {
      "cell_type": "code",
      "execution_count": null,
      "metadata": {
        "id": "A64fj_mDIC0U"
      },
      "outputs": [],
      "source": [
        "def prepare_image(file_path, output_size=(384, 384)):\n",
        "    # 이미지를 불러옵니다.\n",
        "    img = cv2.imread(file_path)\n",
        "\n",
        "    # 이미지 사이즈 조절\n",
        "    desired_size = 275\n",
        "    old_size = img.shape[:2]\n",
        "    if max(old_size) < desired_size:\n",
        "        ratio = float(desired_size) / max(old_size)\n",
        "        new_size = tuple([int(x * ratio) for x in old_size])\n",
        "        img = cv2.resize(cropped_image, (new_size[1], new_size[0]))\n",
        "\n",
        "\n",
        "    h, w, _ = img.shape\n",
        "    # 새 이미지의 크기를 설정합니다.\n",
        "    new_h, new_w = output_size\n",
        "\n",
        "    # 배경 이미지를 생성합니다. 여기서는 흰색 배경을 사용합니다.\n",
        "    result = np.full((new_h, new_w, 3), 255, dtype=np.uint8)\n",
        "\n",
        "    # 새 이미지에서 원본 이미지가 위치할 시작점을 계산합니다.\n",
        "    x_center = (new_w - w) // 2\n",
        "    y_center = (new_h - h) // 2\n",
        "\n",
        "    # 원본 이미지를 새 이미지의 중앙에 위치시킵니다.\n",
        "    result[y_center:y_center+h, x_center:x_center+w] = img\n",
        "\n",
        "    # 이미지를 RGB 형식으로 변환합니다.\n",
        "    img_rgb = cv2.cvtColor(result, cv2.COLOR_BGR2RGB)\n",
        "    plt.imshow(img_rgb)\n",
        "    plt.show()\n",
        "\n",
        "    # 이미지를 numpy 배열로 변환합니다.\n",
        "    img_array = image.img_to_array(img_rgb)\n",
        "\n",
        "    # 데이터 형식을 float32로 변경합니다.\n",
        "    img_array = img_array.astype('float32')\n",
        "\n",
        "    # 차원을 확장하여 모델 입력에 맞춥니다.\n",
        "    img_array = np.expand_dims(img_array, axis=0)\n",
        "\n",
        "    # 입력 이미지 배열을 전처리합니다.\n",
        "    img_array = preprocess_input(img_array)\n",
        "\n",
        "    return img_array"
      ]
    },
    {
      "cell_type": "code",
      "execution_count": null,
      "metadata": {
        "id": "ZDlQF2dIIGwz"
      },
      "outputs": [],
      "source": [
        "def classify_garbage(image_path):\n",
        "    # 예를 들어 이미지 경로\n",
        "    # img_path = './test_data/test4.jfif'\n",
        "\n",
        "    # 이미지 전처리\n",
        "    prepared_image = prepare_image(image_path)\n",
        "\n",
        "    model = load_model(\"/content/cnn(batch_size_256_lr_e-3).h5\", compile=False)\n",
        "\n",
        "    class_names = open(\"/content/labels.txt\", \"r\", encoding='UTF8').readlines()\n",
        "\n",
        "    # 모델을 사용하여 예측\n",
        "    predictions = model.predict(prepared_image)\n",
        "    predicted_class = np.argmax(predictions, axis=1)[0]\n",
        "\n",
        "    print(\"predicted_class:\", predicted_class)\n",
        "\n",
        "    class_name = class_names[predicted_class]\n",
        "    garbage_class_name = class_name[2:-1]\n",
        "\n",
        "    # print(f\"Predicted class: {class_labels[predicted_class]}\")\n",
        "\n",
        "    return garbage_class_name, predicted_class"
      ]
    },
    {
      "cell_type": "code",
      "execution_count": null,
      "metadata": {
        "id": "PJF8-ZCeIMSv"
      },
      "outputs": [],
      "source": [
        "class_name, class_idx = classify_garbage('/content/cropped_image.jpg')\n",
        "print(\"종류: \" + class_name)\n",
        "print(\"인덱스: \", class_idx)"
      ]
    },
    {
      "cell_type": "code",
      "execution_count": null,
      "metadata": {
        "colab": {
          "background_save": true
        },
        "id": "ZIRz_Ge1DdYp"
      },
      "outputs": [],
      "source": []
    }
  ],
  "metadata": {
    "colab": {
      "machine_shape": "hm",
      "provenance": []
    },
    "kernelspec": {
      "display_name": "Python 3",
      "name": "python3"
    },
    "language_info": {
      "name": "python"
    }
  },
  "nbformat": 4,
  "nbformat_minor": 0
}