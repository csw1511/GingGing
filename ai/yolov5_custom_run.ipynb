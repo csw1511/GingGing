{
  "cells": [
    {
      "cell_type": "code",
      "execution_count": null,
      "metadata": {
        "colab": {
          "base_uri": "https://localhost:8080/"
        },
        "id": "Ep97o0RYepW6",
        "outputId": "677c1853-164f-4460-c6fa-b9ec58918445"
      },
      "outputs": [
        {
          "output_type": "stream",
          "name": "stdout",
          "text": [
            "Requirement already satisfied: roboflow in /usr/local/lib/python3.10/dist-packages (1.1.29)\n",
            "Requirement already satisfied: certifi==2023.7.22 in /usr/local/lib/python3.10/dist-packages (from roboflow) (2023.7.22)\n",
            "Requirement already satisfied: chardet==4.0.0 in /usr/local/lib/python3.10/dist-packages (from roboflow) (4.0.0)\n",
            "Requirement already satisfied: cycler==0.10.0 in /usr/local/lib/python3.10/dist-packages (from roboflow) (0.10.0)\n",
            "Requirement already satisfied: idna==2.10 in /usr/local/lib/python3.10/dist-packages (from roboflow) (2.10)\n",
            "Requirement already satisfied: kiwisolver>=1.3.1 in /usr/local/lib/python3.10/dist-packages (from roboflow) (1.4.5)\n",
            "Requirement already satisfied: matplotlib in /usr/local/lib/python3.10/dist-packages (from roboflow) (3.7.1)\n",
            "Requirement already satisfied: numpy>=1.18.5 in /usr/local/lib/python3.10/dist-packages (from roboflow) (1.25.2)\n",
            "Requirement already satisfied: opencv-python-headless==4.8.0.74 in /usr/local/lib/python3.10/dist-packages (from roboflow) (4.8.0.74)\n",
            "Requirement already satisfied: Pillow>=7.1.2 in /usr/local/lib/python3.10/dist-packages (from roboflow) (9.4.0)\n",
            "Requirement already satisfied: python-dateutil in /usr/local/lib/python3.10/dist-packages (from roboflow) (2.8.2)\n",
            "Requirement already satisfied: python-dotenv in /usr/local/lib/python3.10/dist-packages (from roboflow) (1.0.1)\n",
            "Requirement already satisfied: requests in /usr/local/lib/python3.10/dist-packages (from roboflow) (2.31.0)\n",
            "Requirement already satisfied: six in /usr/local/lib/python3.10/dist-packages (from roboflow) (1.16.0)\n",
            "Requirement already satisfied: urllib3>=1.26.6 in /usr/local/lib/python3.10/dist-packages (from roboflow) (2.0.7)\n",
            "Requirement already satisfied: tqdm>=4.41.0 in /usr/local/lib/python3.10/dist-packages (from roboflow) (4.66.4)\n",
            "Requirement already satisfied: PyYAML>=5.3.1 in /usr/local/lib/python3.10/dist-packages (from roboflow) (6.0.1)\n",
            "Requirement already satisfied: requests-toolbelt in /usr/local/lib/python3.10/dist-packages (from roboflow) (1.0.0)\n",
            "Requirement already satisfied: python-magic in /usr/local/lib/python3.10/dist-packages (from roboflow) (0.4.27)\n",
            "Requirement already satisfied: contourpy>=1.0.1 in /usr/local/lib/python3.10/dist-packages (from matplotlib->roboflow) (1.2.1)\n",
            "Requirement already satisfied: fonttools>=4.22.0 in /usr/local/lib/python3.10/dist-packages (from matplotlib->roboflow) (4.51.0)\n",
            "Requirement already satisfied: packaging>=20.0 in /usr/local/lib/python3.10/dist-packages (from matplotlib->roboflow) (24.0)\n",
            "Requirement already satisfied: pyparsing>=2.3.1 in /usr/local/lib/python3.10/dist-packages (from matplotlib->roboflow) (3.1.2)\n",
            "Requirement already satisfied: charset-normalizer<4,>=2 in /usr/local/lib/python3.10/dist-packages (from requests->roboflow) (3.3.2)\n",
            "loading Roboflow workspace...\n",
            "loading Roboflow project...\n"
          ]
        }
      ],
      "source": [
        "!pip install roboflow\n",
        "\n",
        "from roboflow import Roboflow\n",
        "rf = Roboflow(api_key=\"MdG0CEisqJkl0tDaWQuR\")\n",
        "project = rf.workspace(\"garbage-detection-oa9nh\").project(\"yolov5-garbage-detection\")\n",
        "version = project.version(1)\n",
        "dataset = version.download(\"yolov5\")"
      ]
    },
    {
      "cell_type": "code",
      "execution_count": null,
      "metadata": {
        "colab": {
          "base_uri": "https://localhost:8080/"
        },
        "id": "ziZOTET3iT6t",
        "outputId": "724684a1-17d8-47de-dd91-b7045b0665d5"
      },
      "outputs": [
        {
          "output_type": "stream",
          "name": "stdout",
          "text": [
            "/content\n",
            "Cloning into 'yolov5'...\n",
            "remote: Enumerating objects: 16620, done.\u001b[K\n",
            "remote: Counting objects: 100% (98/98), done.\u001b[K\n",
            "remote: Compressing objects: 100% (69/69), done.\u001b[K\n",
            "remote: Total 16620 (delta 55), reused 62 (delta 29), pack-reused 16522\u001b[K\n",
            "Receiving objects: 100% (16620/16620), 15.10 MiB | 19.42 MiB/s, done.\n",
            "Resolving deltas: 100% (11414/11414), done.\n"
          ]
        }
      ],
      "source": [
        "%cd /content\n",
        "!git clone https://github.com/ultralytics/yolov5.git"
      ]
    },
    {
      "cell_type": "code",
      "execution_count": null,
      "metadata": {
        "colab": {
          "base_uri": "https://localhost:8080/"
        },
        "id": "RR1d6iyaihbJ",
        "outputId": "bf1d3f59-7f07-404d-ef20-e7cd0978b689"
      },
      "outputs": [
        {
          "output_type": "stream",
          "name": "stdout",
          "text": [
            "/content/yolov5\n",
            "Requirement already satisfied: gitpython>=3.1.30 in /usr/local/lib/python3.10/dist-packages (from -r requirements.txt (line 5)) (3.1.43)\n",
            "Requirement already satisfied: matplotlib>=3.3 in /usr/local/lib/python3.10/dist-packages (from -r requirements.txt (line 6)) (3.7.1)\n",
            "Requirement already satisfied: numpy>=1.23.5 in /usr/local/lib/python3.10/dist-packages (from -r requirements.txt (line 7)) (1.25.2)\n",
            "Requirement already satisfied: opencv-python>=4.1.1 in /usr/local/lib/python3.10/dist-packages (from -r requirements.txt (line 8)) (4.8.0.76)\n",
            "Requirement already satisfied: pillow>=10.3.0 in /usr/local/lib/python3.10/dist-packages (from -r requirements.txt (line 9)) (10.3.0)\n",
            "Requirement already satisfied: psutil in /usr/local/lib/python3.10/dist-packages (from -r requirements.txt (line 10)) (5.9.5)\n",
            "Requirement already satisfied: PyYAML>=5.3.1 in /usr/local/lib/python3.10/dist-packages (from -r requirements.txt (line 11)) (6.0.1)\n",
            "Requirement already satisfied: requests>=2.23.0 in /usr/local/lib/python3.10/dist-packages (from -r requirements.txt (line 12)) (2.31.0)\n",
            "Requirement already satisfied: scipy>=1.4.1 in /usr/local/lib/python3.10/dist-packages (from -r requirements.txt (line 13)) (1.11.4)\n",
            "Requirement already satisfied: thop>=0.1.1 in /usr/local/lib/python3.10/dist-packages (from -r requirements.txt (line 14)) (0.1.1.post2209072238)\n",
            "Requirement already satisfied: torch>=1.8.0 in /usr/local/lib/python3.10/dist-packages (from -r requirements.txt (line 15)) (2.2.1+cu121)\n",
            "Requirement already satisfied: torchvision>=0.9.0 in /usr/local/lib/python3.10/dist-packages (from -r requirements.txt (line 16)) (0.17.1+cu121)\n",
            "Requirement already satisfied: tqdm>=4.64.0 in /usr/local/lib/python3.10/dist-packages (from -r requirements.txt (line 17)) (4.66.4)\n",
            "Requirement already satisfied: ultralytics>=8.0.232 in /usr/local/lib/python3.10/dist-packages (from -r requirements.txt (line 18)) (8.2.18)\n",
            "Requirement already satisfied: pandas>=1.1.4 in /usr/local/lib/python3.10/dist-packages (from -r requirements.txt (line 27)) (2.0.3)\n",
            "Requirement already satisfied: seaborn>=0.11.0 in /usr/local/lib/python3.10/dist-packages (from -r requirements.txt (line 28)) (0.13.1)\n",
            "Requirement already satisfied: setuptools>=65.5.1 in /usr/local/lib/python3.10/dist-packages (from -r requirements.txt (line 42)) (67.7.2)\n",
            "Requirement already satisfied: wheel>=0.38.0 in /usr/local/lib/python3.10/dist-packages (from -r requirements.txt (line 50)) (0.43.0)\n",
            "Requirement already satisfied: gitdb<5,>=4.0.1 in /usr/local/lib/python3.10/dist-packages (from gitpython>=3.1.30->-r requirements.txt (line 5)) (4.0.11)\n",
            "Requirement already satisfied: contourpy>=1.0.1 in /usr/local/lib/python3.10/dist-packages (from matplotlib>=3.3->-r requirements.txt (line 6)) (1.2.1)\n",
            "Requirement already satisfied: cycler>=0.10 in /usr/local/lib/python3.10/dist-packages (from matplotlib>=3.3->-r requirements.txt (line 6)) (0.12.1)\n",
            "Requirement already satisfied: fonttools>=4.22.0 in /usr/local/lib/python3.10/dist-packages (from matplotlib>=3.3->-r requirements.txt (line 6)) (4.51.0)\n",
            "Requirement already satisfied: kiwisolver>=1.0.1 in /usr/local/lib/python3.10/dist-packages (from matplotlib>=3.3->-r requirements.txt (line 6)) (1.4.5)\n",
            "Requirement already satisfied: packaging>=20.0 in /usr/local/lib/python3.10/dist-packages (from matplotlib>=3.3->-r requirements.txt (line 6)) (24.0)\n",
            "Requirement already satisfied: pyparsing>=2.3.1 in /usr/local/lib/python3.10/dist-packages (from matplotlib>=3.3->-r requirements.txt (line 6)) (3.1.2)\n",
            "Requirement already satisfied: python-dateutil>=2.7 in /usr/local/lib/python3.10/dist-packages (from matplotlib>=3.3->-r requirements.txt (line 6)) (2.8.2)\n",
            "Requirement already satisfied: charset-normalizer<4,>=2 in /usr/local/lib/python3.10/dist-packages (from requests>=2.23.0->-r requirements.txt (line 12)) (3.3.2)\n",
            "Requirement already satisfied: idna<4,>=2.5 in /usr/local/lib/python3.10/dist-packages (from requests>=2.23.0->-r requirements.txt (line 12)) (3.7)\n",
            "Requirement already satisfied: urllib3<3,>=1.21.1 in /usr/local/lib/python3.10/dist-packages (from requests>=2.23.0->-r requirements.txt (line 12)) (2.0.7)\n",
            "Requirement already satisfied: certifi>=2017.4.17 in /usr/local/lib/python3.10/dist-packages (from requests>=2.23.0->-r requirements.txt (line 12)) (2024.2.2)\n",
            "Requirement already satisfied: filelock in /usr/local/lib/python3.10/dist-packages (from torch>=1.8.0->-r requirements.txt (line 15)) (3.14.0)\n",
            "Requirement already satisfied: typing-extensions>=4.8.0 in /usr/local/lib/python3.10/dist-packages (from torch>=1.8.0->-r requirements.txt (line 15)) (4.11.0)\n",
            "Requirement already satisfied: sympy in /usr/local/lib/python3.10/dist-packages (from torch>=1.8.0->-r requirements.txt (line 15)) (1.12)\n",
            "Requirement already satisfied: networkx in /usr/local/lib/python3.10/dist-packages (from torch>=1.8.0->-r requirements.txt (line 15)) (3.3)\n",
            "Requirement already satisfied: jinja2 in /usr/local/lib/python3.10/dist-packages (from torch>=1.8.0->-r requirements.txt (line 15)) (3.1.4)\n",
            "Requirement already satisfied: fsspec in /usr/local/lib/python3.10/dist-packages (from torch>=1.8.0->-r requirements.txt (line 15)) (2023.6.0)\n",
            "Requirement already satisfied: nvidia-cuda-nvrtc-cu12==12.1.105 in /usr/local/lib/python3.10/dist-packages (from torch>=1.8.0->-r requirements.txt (line 15)) (12.1.105)\n",
            "Requirement already satisfied: nvidia-cuda-runtime-cu12==12.1.105 in /usr/local/lib/python3.10/dist-packages (from torch>=1.8.0->-r requirements.txt (line 15)) (12.1.105)\n",
            "Requirement already satisfied: nvidia-cuda-cupti-cu12==12.1.105 in /usr/local/lib/python3.10/dist-packages (from torch>=1.8.0->-r requirements.txt (line 15)) (12.1.105)\n",
            "Requirement already satisfied: nvidia-cudnn-cu12==8.9.2.26 in /usr/local/lib/python3.10/dist-packages (from torch>=1.8.0->-r requirements.txt (line 15)) (8.9.2.26)\n",
            "Requirement already satisfied: nvidia-cublas-cu12==12.1.3.1 in /usr/local/lib/python3.10/dist-packages (from torch>=1.8.0->-r requirements.txt (line 15)) (12.1.3.1)\n",
            "Requirement already satisfied: nvidia-cufft-cu12==11.0.2.54 in /usr/local/lib/python3.10/dist-packages (from torch>=1.8.0->-r requirements.txt (line 15)) (11.0.2.54)\n",
            "Requirement already satisfied: nvidia-curand-cu12==10.3.2.106 in /usr/local/lib/python3.10/dist-packages (from torch>=1.8.0->-r requirements.txt (line 15)) (10.3.2.106)\n",
            "Requirement already satisfied: nvidia-cusolver-cu12==11.4.5.107 in /usr/local/lib/python3.10/dist-packages (from torch>=1.8.0->-r requirements.txt (line 15)) (11.4.5.107)\n",
            "Requirement already satisfied: nvidia-cusparse-cu12==12.1.0.106 in /usr/local/lib/python3.10/dist-packages (from torch>=1.8.0->-r requirements.txt (line 15)) (12.1.0.106)\n",
            "Requirement already satisfied: nvidia-nccl-cu12==2.19.3 in /usr/local/lib/python3.10/dist-packages (from torch>=1.8.0->-r requirements.txt (line 15)) (2.19.3)\n",
            "Requirement already satisfied: nvidia-nvtx-cu12==12.1.105 in /usr/local/lib/python3.10/dist-packages (from torch>=1.8.0->-r requirements.txt (line 15)) (12.1.105)\n",
            "Requirement already satisfied: triton==2.2.0 in /usr/local/lib/python3.10/dist-packages (from torch>=1.8.0->-r requirements.txt (line 15)) (2.2.0)\n",
            "Requirement already satisfied: nvidia-nvjitlink-cu12 in /usr/local/lib/python3.10/dist-packages (from nvidia-cusolver-cu12==11.4.5.107->torch>=1.8.0->-r requirements.txt (line 15)) (12.4.127)\n",
            "Requirement already satisfied: py-cpuinfo in /usr/local/lib/python3.10/dist-packages (from ultralytics>=8.0.232->-r requirements.txt (line 18)) (9.0.0)\n",
            "Requirement already satisfied: pytz>=2020.1 in /usr/local/lib/python3.10/dist-packages (from pandas>=1.1.4->-r requirements.txt (line 27)) (2023.4)\n",
            "Requirement already satisfied: tzdata>=2022.1 in /usr/local/lib/python3.10/dist-packages (from pandas>=1.1.4->-r requirements.txt (line 27)) (2024.1)\n",
            "Requirement already satisfied: smmap<6,>=3.0.1 in /usr/local/lib/python3.10/dist-packages (from gitdb<5,>=4.0.1->gitpython>=3.1.30->-r requirements.txt (line 5)) (5.0.1)\n",
            "Requirement already satisfied: six>=1.5 in /usr/local/lib/python3.10/dist-packages (from python-dateutil>=2.7->matplotlib>=3.3->-r requirements.txt (line 6)) (1.16.0)\n",
            "Requirement already satisfied: MarkupSafe>=2.0 in /usr/local/lib/python3.10/dist-packages (from jinja2->torch>=1.8.0->-r requirements.txt (line 15)) (2.1.5)\n",
            "Requirement already satisfied: mpmath>=0.19 in /usr/local/lib/python3.10/dist-packages (from sympy->torch>=1.8.0->-r requirements.txt (line 15)) (1.3.0)\n"
          ]
        }
      ],
      "source": [
        "%cd /content/yolov5/\n",
        "!pip install -r requirements.txt"
      ]
    },
    {
      "cell_type": "code",
      "execution_count": null,
      "metadata": {
        "colab": {
          "base_uri": "https://localhost:8080/"
        },
        "id": "S73Zt7PSh8ea",
        "outputId": "34a3ea03-2123-49cf-8b44-f184c0d592e4"
      },
      "outputs": [
        {
          "output_type": "stream",
          "name": "stdout",
          "text": [
            "/\n",
            "20\n"
          ]
        }
      ],
      "source": [
        "%cd /\n",
        "from glob import glob\n",
        "\n",
        "test_img_list = glob('/content/yolov5_test_image_grabcut/*.jpg')\n",
        "\n",
        "print(len(test_img_list))"
      ]
    },
    {
      "cell_type": "code",
      "execution_count": null,
      "metadata": {
        "colab": {
          "base_uri": "https://localhost:8080/"
        },
        "id": "RlK_ZWlAdMVX",
        "outputId": "e6554b0e-5e4f-48be-f59b-02f0a72fe518"
      },
      "outputs": [
        {
          "output_type": "stream",
          "name": "stdout",
          "text": [
            "/content/yolov5\n",
            "\u001b[34m\u001b[1mdetect: \u001b[0mweights=['/content/best.pt'], source=/content/yolov5_test_image_grabcut/test_trash6_result.jpg, data=data/coco128.yaml, imgsz=[320, 320], conf_thres=0.25, iou_thres=0.45, max_det=1000, device=, view_img=False, save_txt=True, save_csv=False, save_conf=True, save_crop=False, nosave=False, classes=None, agnostic_nms=False, augment=False, visualize=False, update=False, project=runs/detect, name=exp, exist_ok=True, line_thickness=3, hide_labels=False, hide_conf=False, half=False, dnn=False, vid_stride=1\n",
            "YOLOv5 🚀 v7.0-313-g712de55a Python-3.10.12 torch-2.2.1+cu121 CPU\n",
            "\n",
            "Fusing layers... \n",
            "Model summary: 322 layers, 86180143 parameters, 0 gradients, 203.8 GFLOPs\n",
            "image 1/1 /content/yolov5_test_image_grabcut/test_trash6_result.jpg: 256x320 1 -, 213.7ms\n",
            "Speed: 0.3ms pre-process, 213.7ms inference, 20.3ms NMS per image at shape (1, 3, 320, 320)\n",
            "Results saved to \u001b[1mruns/detect/exp\u001b[0m\n",
            "1 labels saved to runs/detect/exp/labels\n",
            "\u001b[34m\u001b[1mdetect: \u001b[0mweights=['/content/best.pt'], source=/content/yolov5_test_image_grabcut/test_received8_result.jpg, data=data/coco128.yaml, imgsz=[320, 320], conf_thres=0.25, iou_thres=0.45, max_det=1000, device=, view_img=False, save_txt=True, save_csv=False, save_conf=True, save_crop=False, nosave=False, classes=None, agnostic_nms=False, augment=False, visualize=False, update=False, project=runs/detect, name=exp, exist_ok=True, line_thickness=3, hide_labels=False, hide_conf=False, half=False, dnn=False, vid_stride=1\n",
            "YOLOv5 🚀 v7.0-313-g712de55a Python-3.10.12 torch-2.2.1+cu121 CPU\n",
            "\n",
            "Fusing layers... \n",
            "Model summary: 322 layers, 86180143 parameters, 0 gradients, 203.8 GFLOPs\n",
            "image 1/1 /content/yolov5_test_image_grabcut/test_received8_result.jpg: 256x320 1 Yolov5 garbage detection - v1 2023-09-22 2-01pm, 203.2ms\n",
            "Speed: 0.4ms pre-process, 203.2ms inference, 0.7ms NMS per image at shape (1, 3, 320, 320)\n",
            "Results saved to \u001b[1mruns/detect/exp\u001b[0m\n",
            "2 labels saved to runs/detect/exp/labels\n",
            "\u001b[34m\u001b[1mdetect: \u001b[0mweights=['/content/best.pt'], source=/content/yolov5_test_image_grabcut/test_received7_result.jpg, data=data/coco128.yaml, imgsz=[320, 320], conf_thres=0.25, iou_thres=0.45, max_det=1000, device=, view_img=False, save_txt=True, save_csv=False, save_conf=True, save_crop=False, nosave=False, classes=None, agnostic_nms=False, augment=False, visualize=False, update=False, project=runs/detect, name=exp, exist_ok=True, line_thickness=3, hide_labels=False, hide_conf=False, half=False, dnn=False, vid_stride=1\n",
            "YOLOv5 🚀 v7.0-313-g712de55a Python-3.10.12 torch-2.2.1+cu121 CPU\n",
            "\n",
            "Fusing layers... \n",
            "Model summary: 322 layers, 86180143 parameters, 0 gradients, 203.8 GFLOPs\n",
            "image 1/1 /content/yolov5_test_image_grabcut/test_received7_result.jpg: 256x320 1 -, 314.7ms\n",
            "Speed: 0.4ms pre-process, 314.7ms inference, 0.8ms NMS per image at shape (1, 3, 320, 320)\n",
            "Results saved to \u001b[1mruns/detect/exp\u001b[0m\n",
            "3 labels saved to runs/detect/exp/labels\n",
            "\u001b[34m\u001b[1mdetect: \u001b[0mweights=['/content/best.pt'], source=/content/yolov5_test_image_grabcut/test_trash4_result.jpg, data=data/coco128.yaml, imgsz=[320, 320], conf_thres=0.25, iou_thres=0.45, max_det=1000, device=, view_img=False, save_txt=True, save_csv=False, save_conf=True, save_crop=False, nosave=False, classes=None, agnostic_nms=False, augment=False, visualize=False, update=False, project=runs/detect, name=exp, exist_ok=True, line_thickness=3, hide_labels=False, hide_conf=False, half=False, dnn=False, vid_stride=1\n",
            "YOLOv5 🚀 v7.0-313-g712de55a Python-3.10.12 torch-2.2.1+cu121 CPU\n",
            "\n",
            "Fusing layers... \n",
            "Model summary: 322 layers, 86180143 parameters, 0 gradients, 203.8 GFLOPs\n",
            "image 1/1 /content/yolov5_test_image_grabcut/test_trash4_result.jpg: 256x320 1 Yolov5 garbage detection - v1 2023-09-22 2-01pm, 204.9ms\n",
            "Speed: 0.4ms pre-process, 204.9ms inference, 0.8ms NMS per image at shape (1, 3, 320, 320)\n",
            "Results saved to \u001b[1mruns/detect/exp\u001b[0m\n",
            "4 labels saved to runs/detect/exp/labels\n",
            "\u001b[34m\u001b[1mdetect: \u001b[0mweights=['/content/best.pt'], source=/content/yolov5_test_image_grabcut/test_trash5_result.jpg, data=data/coco128.yaml, imgsz=[320, 320], conf_thres=0.25, iou_thres=0.45, max_det=1000, device=, view_img=False, save_txt=True, save_csv=False, save_conf=True, save_crop=False, nosave=False, classes=None, agnostic_nms=False, augment=False, visualize=False, update=False, project=runs/detect, name=exp, exist_ok=True, line_thickness=3, hide_labels=False, hide_conf=False, half=False, dnn=False, vid_stride=1\n",
            "YOLOv5 🚀 v7.0-313-g712de55a Python-3.10.12 torch-2.2.1+cu121 CPU\n",
            "\n",
            "Fusing layers... \n",
            "Model summary: 322 layers, 86180143 parameters, 0 gradients, 203.8 GFLOPs\n",
            "image 1/1 /content/yolov5_test_image_grabcut/test_trash5_result.jpg: 256x320 3 -s, 193.1ms\n",
            "Speed: 0.3ms pre-process, 193.1ms inference, 0.7ms NMS per image at shape (1, 3, 320, 320)\n",
            "Results saved to \u001b[1mruns/detect/exp\u001b[0m\n",
            "5 labels saved to runs/detect/exp/labels\n",
            "\u001b[34m\u001b[1mdetect: \u001b[0mweights=['/content/best.pt'], source=/content/yolov5_test_image_grabcut/test_received3_result.jpg, data=data/coco128.yaml, imgsz=[320, 320], conf_thres=0.25, iou_thres=0.45, max_det=1000, device=, view_img=False, save_txt=True, save_csv=False, save_conf=True, save_crop=False, nosave=False, classes=None, agnostic_nms=False, augment=False, visualize=False, update=False, project=runs/detect, name=exp, exist_ok=True, line_thickness=3, hide_labels=False, hide_conf=False, half=False, dnn=False, vid_stride=1\n",
            "YOLOv5 🚀 v7.0-313-g712de55a Python-3.10.12 torch-2.2.1+cu121 CPU\n",
            "\n",
            "Fusing layers... \n",
            "Model summary: 322 layers, 86180143 parameters, 0 gradients, 203.8 GFLOPs\n",
            "image 1/1 /content/yolov5_test_image_grabcut/test_received3_result.jpg: 256x320 1 -, 1 Yolov5 garbage detection - v1 2023-09-22 2-01pm, 195.0ms\n",
            "Speed: 0.3ms pre-process, 195.0ms inference, 0.8ms NMS per image at shape (1, 3, 320, 320)\n",
            "Results saved to \u001b[1mruns/detect/exp\u001b[0m\n",
            "6 labels saved to runs/detect/exp/labels\n",
            "\u001b[34m\u001b[1mdetect: \u001b[0mweights=['/content/best.pt'], source=/content/yolov5_test_image_grabcut/test_received10_result.jpg, data=data/coco128.yaml, imgsz=[320, 320], conf_thres=0.25, iou_thres=0.45, max_det=1000, device=, view_img=False, save_txt=True, save_csv=False, save_conf=True, save_crop=False, nosave=False, classes=None, agnostic_nms=False, augment=False, visualize=False, update=False, project=runs/detect, name=exp, exist_ok=True, line_thickness=3, hide_labels=False, hide_conf=False, half=False, dnn=False, vid_stride=1\n",
            "YOLOv5 🚀 v7.0-313-g712de55a Python-3.10.12 torch-2.2.1+cu121 CPU\n",
            "\n",
            "Fusing layers... \n",
            "Model summary: 322 layers, 86180143 parameters, 0 gradients, 203.8 GFLOPs\n",
            "image 1/1 /content/yolov5_test_image_grabcut/test_received10_result.jpg: 256x320 1 Yolov5 garbage detection - v1 2023-09-22 2-01pm, 194.6ms\n",
            "Speed: 0.2ms pre-process, 194.6ms inference, 0.7ms NMS per image at shape (1, 3, 320, 320)\n",
            "Results saved to \u001b[1mruns/detect/exp\u001b[0m\n",
            "7 labels saved to runs/detect/exp/labels\n",
            "\u001b[34m\u001b[1mdetect: \u001b[0mweights=['/content/best.pt'], source=/content/yolov5_test_image_grabcut/test_received9_result.jpg, data=data/coco128.yaml, imgsz=[320, 320], conf_thres=0.25, iou_thres=0.45, max_det=1000, device=, view_img=False, save_txt=True, save_csv=False, save_conf=True, save_crop=False, nosave=False, classes=None, agnostic_nms=False, augment=False, visualize=False, update=False, project=runs/detect, name=exp, exist_ok=True, line_thickness=3, hide_labels=False, hide_conf=False, half=False, dnn=False, vid_stride=1\n",
            "YOLOv5 🚀 v7.0-313-g712de55a Python-3.10.12 torch-2.2.1+cu121 CPU\n",
            "\n",
            "Fusing layers... \n",
            "Model summary: 322 layers, 86180143 parameters, 0 gradients, 203.8 GFLOPs\n",
            "image 1/1 /content/yolov5_test_image_grabcut/test_received9_result.jpg: 256x320 1 -, 1 Yolov5 garbage detection - v1 2023-09-22 2-01pm, 238.5ms\n",
            "Speed: 0.5ms pre-process, 238.5ms inference, 0.9ms NMS per image at shape (1, 3, 320, 320)\n",
            "Results saved to \u001b[1mruns/detect/exp\u001b[0m\n",
            "8 labels saved to runs/detect/exp/labels\n",
            "\u001b[34m\u001b[1mdetect: \u001b[0mweights=['/content/best.pt'], source=/content/yolov5_test_image_grabcut/test_trash8_result.jpg, data=data/coco128.yaml, imgsz=[320, 320], conf_thres=0.25, iou_thres=0.45, max_det=1000, device=, view_img=False, save_txt=True, save_csv=False, save_conf=True, save_crop=False, nosave=False, classes=None, agnostic_nms=False, augment=False, visualize=False, update=False, project=runs/detect, name=exp, exist_ok=True, line_thickness=3, hide_labels=False, hide_conf=False, half=False, dnn=False, vid_stride=1\n",
            "YOLOv5 🚀 v7.0-313-g712de55a Python-3.10.12 torch-2.2.1+cu121 CPU\n",
            "\n",
            "Fusing layers... \n",
            "Model summary: 322 layers, 86180143 parameters, 0 gradients, 203.8 GFLOPs\n",
            "image 1/1 /content/yolov5_test_image_grabcut/test_trash8_result.jpg: 256x320 2 -s, 1 Yolov5 garbage detection - v1 2023-09-22 2-01pm, 195.7ms\n",
            "Speed: 0.2ms pre-process, 195.7ms inference, 0.7ms NMS per image at shape (1, 3, 320, 320)\n",
            "Results saved to \u001b[1mruns/detect/exp\u001b[0m\n",
            "9 labels saved to runs/detect/exp/labels\n",
            "\u001b[34m\u001b[1mdetect: \u001b[0mweights=['/content/best.pt'], source=/content/yolov5_test_image_grabcut/test_trash7_result.jpg, data=data/coco128.yaml, imgsz=[320, 320], conf_thres=0.25, iou_thres=0.45, max_det=1000, device=, view_img=False, save_txt=True, save_csv=False, save_conf=True, save_crop=False, nosave=False, classes=None, agnostic_nms=False, augment=False, visualize=False, update=False, project=runs/detect, name=exp, exist_ok=True, line_thickness=3, hide_labels=False, hide_conf=False, half=False, dnn=False, vid_stride=1\n",
            "YOLOv5 🚀 v7.0-313-g712de55a Python-3.10.12 torch-2.2.1+cu121 CPU\n",
            "\n",
            "Fusing layers... \n",
            "Model summary: 322 layers, 86180143 parameters, 0 gradients, 203.8 GFLOPs\n",
            "image 1/1 /content/yolov5_test_image_grabcut/test_trash7_result.jpg: 256x320 2 Yolov5 garbage detection - v1 2023-09-22 2-01pms, 204.8ms\n",
            "Speed: 0.4ms pre-process, 204.8ms inference, 0.9ms NMS per image at shape (1, 3, 320, 320)\n",
            "Results saved to \u001b[1mruns/detect/exp\u001b[0m\n",
            "10 labels saved to runs/detect/exp/labels\n",
            "\u001b[34m\u001b[1mdetect: \u001b[0mweights=['/content/best.pt'], source=/content/yolov5_test_image_grabcut/test_trash2_result.jpg, data=data/coco128.yaml, imgsz=[320, 320], conf_thres=0.25, iou_thres=0.45, max_det=1000, device=, view_img=False, save_txt=True, save_csv=False, save_conf=True, save_crop=False, nosave=False, classes=None, agnostic_nms=False, augment=False, visualize=False, update=False, project=runs/detect, name=exp, exist_ok=True, line_thickness=3, hide_labels=False, hide_conf=False, half=False, dnn=False, vid_stride=1\n",
            "YOLOv5 🚀 v7.0-313-g712de55a Python-3.10.12 torch-2.2.1+cu121 CPU\n",
            "\n",
            "Fusing layers... \n",
            "Model summary: 322 layers, 86180143 parameters, 0 gradients, 203.8 GFLOPs\n",
            "image 1/1 /content/yolov5_test_image_grabcut/test_trash2_result.jpg: 256x320 1 Yolov5 garbage detection - v1 2023-09-22 2-01pm, 191.9ms\n",
            "Speed: 0.2ms pre-process, 191.9ms inference, 0.8ms NMS per image at shape (1, 3, 320, 320)\n",
            "Results saved to \u001b[1mruns/detect/exp\u001b[0m\n",
            "11 labels saved to runs/detect/exp/labels\n",
            "\u001b[34m\u001b[1mdetect: \u001b[0mweights=['/content/best.pt'], source=/content/yolov5_test_image_grabcut/test_trash9_result.jpg, data=data/coco128.yaml, imgsz=[320, 320], conf_thres=0.25, iou_thres=0.45, max_det=1000, device=, view_img=False, save_txt=True, save_csv=False, save_conf=True, save_crop=False, nosave=False, classes=None, agnostic_nms=False, augment=False, visualize=False, update=False, project=runs/detect, name=exp, exist_ok=True, line_thickness=3, hide_labels=False, hide_conf=False, half=False, dnn=False, vid_stride=1\n",
            "YOLOv5 🚀 v7.0-313-g712de55a Python-3.10.12 torch-2.2.1+cu121 CPU\n",
            "\n",
            "Fusing layers... \n",
            "Model summary: 322 layers, 86180143 parameters, 0 gradients, 203.8 GFLOPs\n",
            "image 1/1 /content/yolov5_test_image_grabcut/test_trash9_result.jpg: 256x320 1 -, 203.1ms\n",
            "Speed: 0.4ms pre-process, 203.1ms inference, 0.8ms NMS per image at shape (1, 3, 320, 320)\n",
            "Results saved to \u001b[1mruns/detect/exp\u001b[0m\n",
            "12 labels saved to runs/detect/exp/labels\n",
            "\u001b[34m\u001b[1mdetect: \u001b[0mweights=['/content/best.pt'], source=/content/yolov5_test_image_grabcut/test_received1_result.jpg, data=data/coco128.yaml, imgsz=[320, 320], conf_thres=0.25, iou_thres=0.45, max_det=1000, device=, view_img=False, save_txt=True, save_csv=False, save_conf=True, save_crop=False, nosave=False, classes=None, agnostic_nms=False, augment=False, visualize=False, update=False, project=runs/detect, name=exp, exist_ok=True, line_thickness=3, hide_labels=False, hide_conf=False, half=False, dnn=False, vid_stride=1\n",
            "YOLOv5 🚀 v7.0-313-g712de55a Python-3.10.12 torch-2.2.1+cu121 CPU\n",
            "\n",
            "Fusing layers... \n",
            "Model summary: 322 layers, 86180143 parameters, 0 gradients, 203.8 GFLOPs\n",
            "image 1/1 /content/yolov5_test_image_grabcut/test_received1_result.jpg: 256x320 1 Yolov5 garbage detection - v1 2023-09-22 2-01pm, 201.7ms\n",
            "Speed: 0.2ms pre-process, 201.7ms inference, 0.8ms NMS per image at shape (1, 3, 320, 320)\n",
            "Results saved to \u001b[1mruns/detect/exp\u001b[0m\n",
            "13 labels saved to runs/detect/exp/labels\n",
            "\u001b[34m\u001b[1mdetect: \u001b[0mweights=['/content/best.pt'], source=/content/yolov5_test_image_grabcut/test_trash3_result.jpg, data=data/coco128.yaml, imgsz=[320, 320], conf_thres=0.25, iou_thres=0.45, max_det=1000, device=, view_img=False, save_txt=True, save_csv=False, save_conf=True, save_crop=False, nosave=False, classes=None, agnostic_nms=False, augment=False, visualize=False, update=False, project=runs/detect, name=exp, exist_ok=True, line_thickness=3, hide_labels=False, hide_conf=False, half=False, dnn=False, vid_stride=1\n",
            "YOLOv5 🚀 v7.0-313-g712de55a Python-3.10.12 torch-2.2.1+cu121 CPU\n",
            "\n",
            "Fusing layers... \n",
            "Model summary: 322 layers, 86180143 parameters, 0 gradients, 203.8 GFLOPs\n",
            "image 1/1 /content/yolov5_test_image_grabcut/test_trash3_result.jpg: 256x320 1 -, 1 Yolov5 garbage detection - v1 2023-09-22 2-01pm, 201.4ms\n",
            "Speed: 0.2ms pre-process, 201.4ms inference, 0.8ms NMS per image at shape (1, 3, 320, 320)\n",
            "Results saved to \u001b[1mruns/detect/exp\u001b[0m\n",
            "14 labels saved to runs/detect/exp/labels\n",
            "\u001b[34m\u001b[1mdetect: \u001b[0mweights=['/content/best.pt'], source=/content/yolov5_test_image_grabcut/test_received6_result.jpg, data=data/coco128.yaml, imgsz=[320, 320], conf_thres=0.25, iou_thres=0.45, max_det=1000, device=, view_img=False, save_txt=True, save_csv=False, save_conf=True, save_crop=False, nosave=False, classes=None, agnostic_nms=False, augment=False, visualize=False, update=False, project=runs/detect, name=exp, exist_ok=True, line_thickness=3, hide_labels=False, hide_conf=False, half=False, dnn=False, vid_stride=1\n",
            "YOLOv5 🚀 v7.0-313-g712de55a Python-3.10.12 torch-2.2.1+cu121 CPU\n",
            "\n",
            "Fusing layers... \n",
            "Model summary: 322 layers, 86180143 parameters, 0 gradients, 203.8 GFLOPs\n",
            "image 1/1 /content/yolov5_test_image_grabcut/test_received6_result.jpg: 256x320 1 -, 1 Yolov5 garbage detection - v1 2023-09-22 2-01pm, 197.7ms\n",
            "Speed: 0.3ms pre-process, 197.7ms inference, 0.7ms NMS per image at shape (1, 3, 320, 320)\n",
            "Results saved to \u001b[1mruns/detect/exp\u001b[0m\n",
            "15 labels saved to runs/detect/exp/labels\n",
            "\u001b[34m\u001b[1mdetect: \u001b[0mweights=['/content/best.pt'], source=/content/yolov5_test_image_grabcut/test_trash1_result.jpg, data=data/coco128.yaml, imgsz=[320, 320], conf_thres=0.25, iou_thres=0.45, max_det=1000, device=, view_img=False, save_txt=True, save_csv=False, save_conf=True, save_crop=False, nosave=False, classes=None, agnostic_nms=False, augment=False, visualize=False, update=False, project=runs/detect, name=exp, exist_ok=True, line_thickness=3, hide_labels=False, hide_conf=False, half=False, dnn=False, vid_stride=1\n",
            "YOLOv5 🚀 v7.0-313-g712de55a Python-3.10.12 torch-2.2.1+cu121 CPU\n",
            "\n",
            "Fusing layers... \n",
            "Model summary: 322 layers, 86180143 parameters, 0 gradients, 203.8 GFLOPs\n",
            "image 1/1 /content/yolov5_test_image_grabcut/test_trash1_result.jpg: 256x320 1 Yolov5 garbage detection - v1 2023-09-22 2-01pm, 192.9ms\n",
            "Speed: 0.2ms pre-process, 192.9ms inference, 0.7ms NMS per image at shape (1, 3, 320, 320)\n",
            "Results saved to \u001b[1mruns/detect/exp\u001b[0m\n",
            "16 labels saved to runs/detect/exp/labels\n",
            "\u001b[34m\u001b[1mdetect: \u001b[0mweights=['/content/best.pt'], source=/content/yolov5_test_image_grabcut/test_received11_result.jpg, data=data/coco128.yaml, imgsz=[320, 320], conf_thres=0.25, iou_thres=0.45, max_det=1000, device=, view_img=False, save_txt=True, save_csv=False, save_conf=True, save_crop=False, nosave=False, classes=None, agnostic_nms=False, augment=False, visualize=False, update=False, project=runs/detect, name=exp, exist_ok=True, line_thickness=3, hide_labels=False, hide_conf=False, half=False, dnn=False, vid_stride=1\n",
            "YOLOv5 🚀 v7.0-313-g712de55a Python-3.10.12 torch-2.2.1+cu121 CPU\n",
            "\n",
            "Fusing layers... \n",
            "Model summary: 322 layers, 86180143 parameters, 0 gradients, 203.8 GFLOPs\n",
            "image 1/1 /content/yolov5_test_image_grabcut/test_received11_result.jpg: 256x320 1 -, 1 Yolov5 garbage detection - v1 2023-09-22 2-01pm, 198.8ms\n",
            "Speed: 0.3ms pre-process, 198.8ms inference, 0.7ms NMS per image at shape (1, 3, 320, 320)\n",
            "Results saved to \u001b[1mruns/detect/exp\u001b[0m\n",
            "17 labels saved to runs/detect/exp/labels\n",
            "\u001b[34m\u001b[1mdetect: \u001b[0mweights=['/content/best.pt'], source=/content/yolov5_test_image_grabcut/test_received4_result.jpg, data=data/coco128.yaml, imgsz=[320, 320], conf_thres=0.25, iou_thres=0.45, max_det=1000, device=, view_img=False, save_txt=True, save_csv=False, save_conf=True, save_crop=False, nosave=False, classes=None, agnostic_nms=False, augment=False, visualize=False, update=False, project=runs/detect, name=exp, exist_ok=True, line_thickness=3, hide_labels=False, hide_conf=False, half=False, dnn=False, vid_stride=1\n",
            "YOLOv5 🚀 v7.0-313-g712de55a Python-3.10.12 torch-2.2.1+cu121 CPU\n",
            "\n",
            "Fusing layers... \n",
            "Model summary: 322 layers, 86180143 parameters, 0 gradients, 203.8 GFLOPs\n",
            "image 1/1 /content/yolov5_test_image_grabcut/test_received4_result.jpg: 256x320 1 -, 1 Yolov5 garbage detection - v1 2023-09-22 2-01pm, 198.2ms\n",
            "Speed: 0.4ms pre-process, 198.2ms inference, 0.7ms NMS per image at shape (1, 3, 320, 320)\n",
            "Results saved to \u001b[1mruns/detect/exp\u001b[0m\n",
            "18 labels saved to runs/detect/exp/labels\n",
            "\u001b[34m\u001b[1mdetect: \u001b[0mweights=['/content/best.pt'], source=/content/yolov5_test_image_grabcut/test_received2_result.jpg, data=data/coco128.yaml, imgsz=[320, 320], conf_thres=0.25, iou_thres=0.45, max_det=1000, device=, view_img=False, save_txt=True, save_csv=False, save_conf=True, save_crop=False, nosave=False, classes=None, agnostic_nms=False, augment=False, visualize=False, update=False, project=runs/detect, name=exp, exist_ok=True, line_thickness=3, hide_labels=False, hide_conf=False, half=False, dnn=False, vid_stride=1\n",
            "YOLOv5 🚀 v7.0-313-g712de55a Python-3.10.12 torch-2.2.1+cu121 CPU\n",
            "\n",
            "Fusing layers... \n",
            "Model summary: 322 layers, 86180143 parameters, 0 gradients, 203.8 GFLOPs\n",
            "image 1/1 /content/yolov5_test_image_grabcut/test_received2_result.jpg: 256x320 1 Yolov5 garbage detection - v1 2023-09-22 2-01pm, 198.0ms\n",
            "Speed: 0.4ms pre-process, 198.0ms inference, 0.7ms NMS per image at shape (1, 3, 320, 320)\n",
            "Results saved to \u001b[1mruns/detect/exp\u001b[0m\n",
            "19 labels saved to runs/detect/exp/labels\n",
            "\u001b[34m\u001b[1mdetect: \u001b[0mweights=['/content/best.pt'], source=/content/yolov5_test_image_grabcut/test_received5_result.jpg, data=data/coco128.yaml, imgsz=[320, 320], conf_thres=0.25, iou_thres=0.45, max_det=1000, device=, view_img=False, save_txt=True, save_csv=False, save_conf=True, save_crop=False, nosave=False, classes=None, agnostic_nms=False, augment=False, visualize=False, update=False, project=runs/detect, name=exp, exist_ok=True, line_thickness=3, hide_labels=False, hide_conf=False, half=False, dnn=False, vid_stride=1\n",
            "YOLOv5 🚀 v7.0-313-g712de55a Python-3.10.12 torch-2.2.1+cu121 CPU\n",
            "\n",
            "Fusing layers... \n",
            "Model summary: 322 layers, 86180143 parameters, 0 gradients, 203.8 GFLOPs\n",
            "image 1/1 /content/yolov5_test_image_grabcut/test_received5_result.jpg: 256x320 1 Yolov5 garbage detection - v1 2023-09-22 2-01pm, 201.8ms\n",
            "Speed: 0.4ms pre-process, 201.8ms inference, 0.8ms NMS per image at shape (1, 3, 320, 320)\n",
            "Results saved to \u001b[1mruns/detect/exp\u001b[0m\n",
            "20 labels saved to runs/detect/exp/labels\n"
          ]
        }
      ],
      "source": [
        "from IPython.display import Image\n",
        "import os\n",
        "\n",
        "%cd /content/yolov5/\n",
        "\n",
        "# test_img_path = test_img_list[5]\n",
        "# test_img_path = '/content/yolov5_test_image/image1.jpg'\n",
        "\n",
        "# 결과 디렉토리 설정\n",
        "result_dir = '/content/yolov5/runs/detect/exp/'\n",
        "\n",
        "# 기존 결과 삭제\n",
        "if os.path.exists(result_dir):\n",
        "    import shutil\n",
        "    shutil.rmtree(result_dir)\n",
        "\n",
        "for i in range(len(test_img_list)):\n",
        "    !python detect.py --weights /content/best.pt --img 320 --conf 0.25 --source {test_img_list[i]} --save-txt --save-conf --exist-ok\n",
        "    Image(os.path.join('/content/yolov5/runs/detect/exp', os.path.basename(test_img_list[i])))"
      ]
    },
    {
      "cell_type": "code",
      "execution_count": null,
      "metadata": {
        "colab": {
          "base_uri": "https://localhost:8080/",
          "height": 120
        },
        "id": "O-0spjAtuu0X",
        "outputId": "57a3c7ae-d1f3-4f6a-a909-73b01ffb0593"
      },
      "outputs": [
        {
          "output_type": "display_data",
          "data": {
            "image/jpeg": "[encoded data removed]",
            "text/plain": [
              "<IPython.core.display.Image object>"
            ]
          },
          "metadata": {}
        }
      ],
      "source": [
        "import os\n",
        "import cv2\n",
        "\n",
        "# 이미지 경로와 결과 파일 경로 설정\n",
        "image_path = '/content/yolov5_test_image/test_trash9.jpg'\n",
        "txt_path = '/content/yolov5/runs/detect/exp/labels/test_trash9_result.txt'  # 이 경로는 실제 결과 파일에 맞게 조정 필요\n",
        "\n",
        "# 이미지 로드\n",
        "image = cv2.imread(image_path)\n",
        "height, width, _ = image.shape\n",
        "\n",
        "# 결과 파일 읽기\n",
        "with open(txt_path, 'r') as file:\n",
        "    lines = file.readlines()\n",
        "\n",
        "# 객체 데이터 파싱\n",
        "objects = []\n",
        "for line in lines:\n",
        "    parts = line.strip().split()\n",
        "    x_center, y_center, bbox_width, bbox_height = map(float, parts[1:5])\n",
        "    x_center *= width\n",
        "    y_center *= height\n",
        "    bbox_width *= width\n",
        "    bbox_height *= height\n",
        "    x1 = int(x_center - bbox_width / 2)\n",
        "    y1 = int(y_center - bbox_height / 2)\n",
        "    x2 = int(x_center + bbox_width / 2)\n",
        "    y2 = int(y_center + bbox_height / 2)\n",
        "    objects.append((x1, y1, x2, y2))\n",
        "\n",
        "# 이미지 중앙과 가장 가까운 객체 찾기\n",
        "image_center = (width / 2, height / 2)\n",
        "closest_object = min(objects, key=lambda obj: (image_center[0] - (obj[0]+obj[2])/2) ** 2 + (image_center[1] - (obj[1]+obj[3])/2) ** 2)\n",
        "\n",
        "# 가장 가까운 객체를 사용하여 이미지 크롭\n",
        "x1, y1, x2, y2 = closest_object\n",
        "cropped_image = image[y1:y2, x1:x2]\n",
        "\n",
        "# 크롭된 이미지 저장 또는 표시\n",
        "cv2.imwrite('/content/cropped_image.jpg', cropped_image)\n",
        "# 또는\n",
        "from IPython.display import display, Image\n",
        "display(Image(data=cv2.imencode('.jpg', cropped_image)[1].tobytes()))\n",
        "\n"
      ]
    },
    {
      "cell_type": "code",
      "execution_count": null,
      "metadata": {
        "id": "nOnaugUoGgCC"
      },
      "outputs": [],
      "source": [
        "import sys, os, glob\n",
        "from keras.models import Sequential\n",
        "from keras.layers import Convolution2D, MaxPooling2D\n",
        "from keras.layers import Activation, Dropout, Flatten, Dense\n",
        "# from keras.utils import np_utils\n",
        "from keras import utils\n",
        "from keras.models import load_model  # TensorFlow is required for Keras to work\n",
        "from PIL import Image, ImageOps  # Install pillow instead of PIL\n",
        "import numpy as np\n",
        "\n",
        "from tensorflow.keras.applications.resnet50 import preprocess_input\n",
        "from tensorflow.keras.preprocessing import image\n",
        "import numpy as np\n",
        "from PIL import Image\n",
        "import matplotlib.pyplot as plt"
      ]
    },
    {
      "cell_type": "code",
      "execution_count": null,
      "metadata": {
        "id": "A64fj_mDIC0U"
      },
      "outputs": [],
      "source": [
        "def prepare_image(file_path, output_size=(384, 384)):\n",
        "    # 이미지를 불러옵니다.\n",
        "    img = cv2.imread(file_path)\n",
        "\n",
        "    # 이미지 사이즈 조절\n",
        "    desired_size = 275\n",
        "    old_size = img.shape[:2]\n",
        "    if max(old_size) < desired_size:\n",
        "        ratio = float(desired_size) / max(old_size)\n",
        "        new_size = tuple([int(x * ratio) for x in old_size])\n",
        "        img = cv2.resize(cropped_image, (new_size[1], new_size[0]))\n",
        "\n",
        "\n",
        "    h, w, _ = img.shape\n",
        "    # 새 이미지의 크기를 설정합니다.\n",
        "    new_h, new_w = output_size\n",
        "\n",
        "    # 배경 이미지를 생성합니다. 여기서는 흰색 배경을 사용합니다.\n",
        "    result = np.full((new_h, new_w, 3), 255, dtype=np.uint8)\n",
        "\n",
        "    # 새 이미지에서 원본 이미지가 위치할 시작점을 계산합니다.\n",
        "    x_center = (new_w - w) // 2\n",
        "    y_center = (new_h - h) // 2\n",
        "\n",
        "    # 원본 이미지를 새 이미지의 중앙에 위치시킵니다.\n",
        "    result[y_center:y_center+h, x_center:x_center+w] = img\n",
        "\n",
        "    # 이미지를 RGB 형식으로 변환합니다.\n",
        "    img_rgb = cv2.cvtColor(result, cv2.COLOR_BGR2RGB)\n",
        "    plt.imshow(img_rgb)\n",
        "    plt.show()\n",
        "\n",
        "    # 이미지를 numpy 배열로 변환합니다.\n",
        "    img_array = image.img_to_array(img_rgb)\n",
        "\n",
        "    # 데이터 형식을 float32로 변경합니다.\n",
        "    img_array = img_array.astype('float32')\n",
        "\n",
        "    # 차원을 확장하여 모델 입력에 맞춥니다.\n",
        "    img_array = np.expand_dims(img_array, axis=0)\n",
        "\n",
        "    # 입력 이미지 배열을 전처리합니다.\n",
        "    img_array = preprocess_input(img_array)\n",
        "\n",
        "    return img_array"
      ]
    },
    {
      "cell_type": "code",
      "execution_count": null,
      "metadata": {
        "id": "ZDlQF2dIIGwz"
      },
      "outputs": [],
      "source": [
        "def classify_garbage(image_path):\n",
        "    # 예를 들어 이미지 경로\n",
        "    # img_path = './test_data/test4.jfif'\n",
        "\n",
        "    # 이미지 전처리\n",
        "    prepared_image = prepare_image(image_path)\n",
        "\n",
        "    model = load_model(\"/content/cnn(batch_size_256_lr_e-3).h5\", compile=False)\n",
        "\n",
        "    class_names = open(\"/content/labels.txt\", \"r\", encoding='UTF8').readlines()\n",
        "\n",
        "    # 모델을 사용하여 예측\n",
        "    predictions = model.predict(prepared_image)\n",
        "    predicted_class = np.argmax(predictions, axis=1)[0]\n",
        "\n",
        "    print(\"predicted_class:\", predicted_class)\n",
        "\n",
        "    class_name = class_names[predicted_class]\n",
        "    garbage_class_name = class_name[2:-1]\n",
        "\n",
        "    # print(f\"Predicted class: {class_labels[predicted_class]}\")\n",
        "\n",
        "    return garbage_class_name, predicted_class"
      ]
    },
    {
      "cell_type": "code",
      "execution_count": null,
      "metadata": {
        "colab": {
          "base_uri": "https://localhost:8080/",
          "height": 508
        },
        "id": "PJF8-ZCeIMSv",
        "outputId": "feedac28-00e1-4cc4-cfd2-65d2d0f6176d"
      },
      "outputs": [
        {
          "output_type": "display_data",
          "data": {
            "text/plain": [
              "<Figure size 640x480 with 1 Axes>"
            ],
            "image/png": "[encoded data removed]"
          },
          "metadata": {}
        },
        {
          "output_type": "stream",
          "name": "stdout",
          "text": [
            "1/1 [==============================] - 1s 804ms/step\n",
            "predicted_class: 3\n",
            "종류: NORMAL\n",
            "인덱스:  3\n"
          ]
        }
      ],
      "source": [
        "class_name, class_idx = classify_garbage('/content/cropped_image.jpg')\n",
        "print(\"종류: \" + class_name)\n",
        "print(\"인덱스: \", class_idx)"
      ]
    },
    {
      "cell_type": "code",
      "execution_count": null,
      "metadata": {
        "colab": {
          "background_save": true
        },
        "id": "ZIRz_Ge1DdYp"
      },
      "outputs": [],
      "source": []
    }
  ],
  "metadata": {
    "colab": {
      "machine_shape": "hm",
      "provenance": []
    },
    "kernelspec": {
      "display_name": "Python 3",
      "name": "python3"
    },
    "language_info": {
      "name": "python"
    }
  },
  "nbformat": 4,
  "nbformat_minor": 0
}